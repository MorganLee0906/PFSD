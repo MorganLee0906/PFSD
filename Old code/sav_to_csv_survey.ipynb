{
 "cells": [
  {
   "cell_type": "code",
   "execution_count": 4,
   "id": "84cf2da5",
   "metadata": {},
   "outputs": [],
   "source": [
    "import pandas as pd\n",
    "import pyreadstat\n",
    "\n",
    "file_path = \"/Users/virginialiu/Desktop/cclab/PSFD/data/子女樣本/CVIII2014/cviii2014_v201606_spss.sav\"\n",
    "output_csv_path = \"/Users/virginialiu/Desktop/cclab/PSFD/data/子女樣本/CVIII2014/cviii2014_v201606_spss.csv\"\n",
    "\n",
    "# 使用 pyreadstat 函式庫讀取 .sav 檔案\n",
    "data, meta = pyreadstat.read_sav(file_path)\n",
    "\n",
    "# 將資料儲存為 CSV 檔案\n",
    "data.to_csv(output_csv_path, index=False)"
   ]
  },
  {
   "cell_type": "code",
   "execution_count": 21,
   "id": "e248e3f1",
   "metadata": {
    "scrolled": true
   },
   "outputs": [
    {
     "name": "stdout",
     "output_type": "stream",
     "text": [
      "無法讀取檔案：/Users/virginialiu/Desktop/cclab/PSFD/data/子女樣本/CI2000/ci2000_c_v201401.sav，錯誤訊息：Unable to convert string to the requested encoding (invalid byte sequence)\n",
      "輸出 CSV 檔案： CIX2016_survey.csv\n",
      "路徑： /Users/virginialiu/Desktop/cclab/PSFD/data/子女樣本/CIX2016/CIX2016_survey.csv\n",
      "輸出 CSV 檔案： CIV2006_survey.csv\n",
      "路徑： /Users/virginialiu/Desktop/cclab/PSFD/data/子女樣本/CIV2006/CIV2006_survey.csv\n",
      "輸出 CSV 檔案： CIII2004_survey.csv\n",
      "路徑： /Users/virginialiu/Desktop/cclab/PSFD/data/子女樣本/CIII2004/CIII2004_survey.csv\n",
      "無法解碼檔案：/Users/virginialiu/Desktop/cclab/PSFD/data/子女樣本/CVI2010/cvi2010_c_v201409_spss.sav，已跳過。\n",
      "輸出 CSV 檔案： CII2002_survey.csv\n",
      "路徑： /Users/virginialiu/Desktop/cclab/PSFD/data/子女樣本/CII2002/CII2002_survey.csv\n",
      "無法讀取檔案：/Users/virginialiu/Desktop/cclab/PSFD/data/子女樣本/CVII2012/cvii2012_v201606_spss.sav，錯誤訊息：Unable to convert string to the requested encoding (invalid byte sequence)\n",
      "輸出 CSV 檔案： CVIII2014_survey.csv\n",
      "路徑： /Users/virginialiu/Desktop/cclab/PSFD/data/子女樣本/CVIII2014/CVIII2014_survey.csv\n",
      "輸出 CSV 檔案： CX2018_survey.csv\n",
      "路徑： /Users/virginialiu/Desktop/cclab/PSFD/data/子女樣本/CX2018/CX2018_survey.csv\n",
      "輸出 CSV 檔案： CV2008_survey.csv\n",
      "路徑： /Users/virginialiu/Desktop/cclab/PSFD/data/子女樣本/CV2008/CV2008_survey.csv\n",
      "無法讀取檔案：/Users/virginialiu/Desktop/cclab/PSFD/data/主樣本/RR2012/rr2012_v201605_spss.sav，錯誤訊息：Unable to convert string to the requested encoding (invalid byte sequence)\n",
      "輸出 CSV 檔案： RR2014_survey.csv\n",
      "路徑： /Users/virginialiu/Desktop/cclab/PSFD/data/主樣本/RR2014/RR2014_survey.csv\n",
      "無法讀取檔案：/Users/virginialiu/Desktop/cclab/PSFD/data/主樣本/RII2001/RII2001_c_V200707(spss).sav，錯誤訊息：Unable to convert string to the requested encoding (invalid byte sequence)\n",
      "無法讀取檔案：/Users/virginialiu/Desktop/cclab/PSFD/data/主樣本/RIII2001/RIII2001_c_V200707(spss).sav，錯誤訊息：Unable to convert string to the requested encoding (invalid byte sequence)\n",
      "無法讀取檔案：/Users/virginialiu/Desktop/cclab/PSFD/data/主樣本/RII2000/rii2000_c_v200901(spss).sav，錯誤訊息：Unable to convert string to the requested encoding (invalid byte sequence)\n",
      "輸出 CSV 檔案： RR2009_survey.csv\n",
      "路徑： /Users/virginialiu/Desktop/cclab/PSFD/data/主樣本/RR2009/RR2009_survey.csv\n",
      "輸出 CSV 檔案： RR2007_survey.csv\n",
      "路徑： /Users/virginialiu/Desktop/cclab/PSFD/data/主樣本/RR2007/RR2007_survey.csv\n",
      "無法讀取檔案：/Users/virginialiu/Desktop/cclab/PSFD/data/主樣本/RR2006/RR2006_c_V200801_SPSS.sav，錯誤訊息：Unable to convert string to the requested encoding (invalid byte sequence)\n",
      "輸出 CSV 檔案： RR2008_survey.csv\n",
      "路徑： /Users/virginialiu/Desktop/cclab/PSFD/data/主樣本/RR2008/RR2008_survey.csv\n",
      "輸出 CSV 檔案： RR2011_survey.csv\n",
      "路徑： /Users/virginialiu/Desktop/cclab/PSFD/data/主樣本/RR2011/RR2011_survey.csv\n",
      "輸出 CSV 檔案： RR2016_survey.csv\n",
      "路徑： /Users/virginialiu/Desktop/cclab/PSFD/data/主樣本/RR2016/RR2016_survey.csv\n",
      "輸出 CSV 檔案： RR2020_survey.csv\n",
      "路徑： /Users/virginialiu/Desktop/cclab/PSFD/data/主樣本/RR2020/RR2020_survey.csv\n",
      "無法讀取檔案：/Users/virginialiu/Desktop/cclab/PSFD/data/主樣本/RR2018/RR2018_v201907_spss.sav，錯誤訊息：Unable to convert string to the requested encoding (invalid byte sequence)\n",
      "輸出 CSV 檔案： RIIRVRVI2004_survey.csv\n",
      "路徑： /Users/virginialiu/Desktop/cclab/PSFD/data/主樣本/RIIRVRVI2004/RIIRVRVI2004_survey.csv\n",
      "輸出 CSV 檔案： RIV,RV2003_survey.csv\n",
      "路徑： /Users/virginialiu/Desktop/cclab/PSFD/data/主樣本/RIV,RV2003/RIV,RV2003_survey.csv\n",
      "輸出 CSV 檔案： RR2010_survey.csv\n",
      "路徑： /Users/virginialiu/Desktop/cclab/PSFD/data/主樣本/RR2010/RR2010_survey.csv\n",
      "無法讀取檔案：/Users/virginialiu/Desktop/cclab/PSFD/data/主樣本/RIII&RIV2002/riii&riv2002_c_v200907(spss).sav，錯誤訊息：Unable to convert string to the requested encoding (invalid byte sequence)\n",
      "無法讀取檔案：/Users/virginialiu/Desktop/cclab/PSFD/data/主樣本/RR2005/RR2005_c_V200701(SPSS).sav，錯誤訊息：Unable to convert string to the requested encoding (invalid byte sequence)\n"
     ]
    }
   ],
   "source": [
    "import os\n",
    "import pyreadstat\n",
    "\n",
    "def process_folder(folder_path):\n",
    "    folder_name = os.path.basename(folder_path)\n",
    "\n",
    "    for root, dirs, files in os.walk(folder_path):\n",
    "        for filename in files:\n",
    "            if filename.endswith(\".sav\"):\n",
    "                file_path = os.path.join(root, filename)\n",
    "                \n",
    "                try:\n",
    "                    data, meta = pyreadstat.read_sav(file_path, encoding=\"big5\")\n",
    "                except SystemError:\n",
    "                    print(f\"無法解碼檔案：{file_path}，已跳過。\")\n",
    "                    continue\n",
    "                except pyreadstat.ReadstatError as e:\n",
    "                    print(f\"無法讀取檔案：{file_path}，錯誤訊息：{e}\")\n",
    "                    continue\n",
    "                \n",
    "                check_invalid_characters(data)\n",
    "                \n",
    "                output_filename = os.path.basename(root).upper() + \"_survey.csv\"\n",
    "                output_path = os.path.join(root, output_filename)\n",
    "                \n",
    "                data.to_csv(output_path, index=False)\n",
    "                \n",
    "                print(\"輸出 CSV 檔案：\", os.path.basename(output_path))\n",
    "                print(\"路徑：\", output_path)\n",
    "\n",
    "def check_invalid_characters(data):\n",
    "    invalid_characters = []\n",
    "    for column in data.columns:\n",
    "        if data[column].dtype == object:\n",
    "            invalid_characters.extend(data[column].str.contains(r\"[\\x00-\\x08\\x0B-\\x0C\\x0E-\\x1F\\x7F]\"))\n",
    "    if any(invalid_characters):\n",
    "        print(\"警告：資料中存在無法解碼的字符，這些字符將被忽略。\")\n",
    "\n",
    "# 處理子女樣本資料夾\n",
    "subfolder_path = \"/Users/virginialiu/Desktop/cclab/PSFD/data/子女樣本\"\n",
    "process_folder(subfolder_path)\n",
    "\n",
    "# 處理主樣本資料夾\n",
    "mainfolder_path = \"/Users/virginialiu/Desktop/cclab/PSFD/data/主樣本\"\n",
    "process_folder(mainfolder_path)\n",
    "\n",
    "# 處理新抽樣本或資料夾\n",
    "newfolder_path = \"/Users/virginialiu/Desktop/cclab/PSFD/data/新抽樣本或\"\n",
    "process_folder(newfolder_path)"
   ]
  },
  {
   "cell_type": "code",
   "execution_count": 20,
   "id": "01aac08d",
   "metadata": {},
   "outputs": [
    {
     "name": "stdout",
     "output_type": "stream",
     "text": [
      "已刪除檔案： /Users/virginialiu/Desktop/cclab/PSFD/data/主樣本/RR2014/主樣本_survey.csv\n",
      "已刪除檔案： /Users/virginialiu/Desktop/cclab/PSFD/data/主樣本/RR2009/主樣本_survey.csv\n",
      "已刪除檔案： /Users/virginialiu/Desktop/cclab/PSFD/data/子女樣本/CIX2016/子女樣本_survey.csv\n",
      "已刪除檔案： /Users/virginialiu/Desktop/cclab/PSFD/data/子女樣本/CIV2006/子女樣本_survey.csv\n",
      "已刪除檔案： /Users/virginialiu/Desktop/cclab/PSFD/data/子女樣本/CIII2004/子女樣本_survey.csv\n",
      "已刪除檔案： /Users/virginialiu/Desktop/cclab/PSFD/data/子女樣本/CII2002/子女樣本_survey.csv\n",
      "已刪除檔案： /Users/virginialiu/Desktop/cclab/PSFD/data/子女樣本/CVIII2014/子女樣本_survey.csv\n",
      "已刪除檔案： /Users/virginialiu/Desktop/cclab/PSFD/data/子女樣本/CX2018/子女樣本_survey.csv\n",
      "已刪除檔案： /Users/virginialiu/Desktop/cclab/PSFD/data/子女樣本/CV2008/子女樣本_survey.csv\n"
     ]
    }
   ],
   "source": [
    "import os\n",
    "\n",
    "def delete_survey_csv_files(folder_path):\n",
    "    for root, dirs, files in os.walk(folder_path):\n",
    "        for filename in files:\n",
    "            if filename.endswith(\"_survey.csv\"):\n",
    "                file_path = os.path.join(root, filename)\n",
    "                os.remove(file_path)\n",
    "                print(\"已刪除檔案：\", file_path)\n",
    "\n",
    "# 資料夾路徑\n",
    "folder_path = \"/Users/virginialiu/Desktop/cclab/PSFD/data\"\n",
    "\n",
    "# 刪除 survey csv 檔案\n",
    "delete_survey_csv_files(folder_path)"
   ]
  },
  {
   "cell_type": "code",
   "execution_count": null,
   "id": "cc954c0c",
   "metadata": {},
   "outputs": [],
   "source": []
  }
 ],
 "metadata": {
  "kernelspec": {
   "display_name": "Python 3 (ipykernel)",
   "language": "python",
   "name": "python3"
  },
  "language_info": {
   "codemirror_mode": {
    "name": "ipython",
    "version": 3
   },
   "file_extension": ".py",
   "mimetype": "text/x-python",
   "name": "python",
   "nbconvert_exporter": "python",
   "pygments_lexer": "ipython3",
   "version": "3.9.7"
  },
  "varInspector": {
   "cols": {
    "lenName": 16,
    "lenType": 16,
    "lenVar": 40
   },
   "kernels_config": {
    "python": {
     "delete_cmd_postfix": "",
     "delete_cmd_prefix": "del ",
     "library": "var_list.py",
     "varRefreshCmd": "print(var_dic_list())"
    },
    "r": {
     "delete_cmd_postfix": ") ",
     "delete_cmd_prefix": "rm(",
     "library": "var_list.r",
     "varRefreshCmd": "cat(var_dic_list()) "
    }
   },
   "types_to_exclude": [
    "module",
    "function",
    "builtin_function_or_method",
    "instance",
    "_Feature"
   ],
   "window_display": false
  }
 },
 "nbformat": 4,
 "nbformat_minor": 5
}
